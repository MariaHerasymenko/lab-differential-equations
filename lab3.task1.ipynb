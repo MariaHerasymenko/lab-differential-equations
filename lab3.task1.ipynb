{
 "cells": [
  {
   "cell_type": "markdown",
   "metadata": {},
   "source": [
    "# Лаба3\n",
    "\n",
    "## Варіант 4\n",
    "\n",
    "### Задача 1)\n",
    "\n",
    "$f(x, y) = x + y^2, x_0 = 3, y_0 = 0, a = 3, b = 1 \\quad \\prod = \\big\\{(x, y) \\in \\mathbb{R}^{2} : |x - 3| \\leq 3, |y  | \\leq 1 \\big\\}$\n",
    "\n",
    "1.1\n",
    "$$ f_{y}^{'} = 2y$$$$L = \\max_{(x, y) \\in \\prod}{|f_{y}^{'}|} = \\max_{(x, y) \\in \\prod}{|2y|} = 2$$\n",
    "$f \\in C$ $\\implies$ задоволняє умови пікара"
   ]
  },
  {
   "cell_type": "markdown",
   "metadata": {},
   "source": [
    "1.2\n",
    "$$M = \\max_{(x, y) \\in \\prod}{|x + y^{2}|} = 7$$$$h = \\min\\{a, \\frac{b}{M}\\} = \\min\\{3, \\frac{1}{7} \\} = \\frac{1}{7} \\implies I_{h} = \\big(3 - \\frac{1}{7};  3 + \\frac{1}{7} \\big)$$"
   ]
  },
  {
   "cell_type": "markdown",
   "metadata": {},
   "source": [
    "1.3\n",
    "$$y_{n+1} = y_0 + \\int_{x_{0}}^{x}{f(\\xi, y(\\xi))d\\xi}$$\n",
    "$$y_{1} = \\int_{3}^{x}{\\big(\\xi\\big)d\\xi} =\\frac{x^{2}}{2} - \\frac{9}{2} $$$$y_{2} = \\int_{3}^{x} \\xi+(\\frac{\\xi^{2}}{2}-\\frac{9}{2})^{2} d \\xi=\\frac{x^{2}}{2}-\\frac{x^{5}}{20}-\\frac{3x^{3}}{2} +81 \\cdot x-\\frac{369}{10}\n",
    "$$"
   ]
  },
  {
   "cell_type": "markdown",
   "metadata": {},
   "source": [
    "\n",
    "$$Похибка: \\max { -\\frac{1}{7} , +\\frac{1}{7} }$$    $$\\left|y(x)-y_{3}(x)\\right| = \\beta_{3} =  \\frac{M L^{3-1}}{3 !} h^{3} = \\frac{7\\cdot 2^{2}}{3!} \\cdot (\\frac{1}{7})^{3} = \\frac{2}{147} $$\n"
   ]
  },
  {
   "cell_type": "code",
   "execution_count": 2,
   "metadata": {},
   "outputs": [
    {
     "name": "stdout",
     "output_type": "stream",
     "text": [
      "n =  3\n"
     ]
    }
   ],
   "source": [
    "from math import factorial\n",
    "M = 7\n",
    "L = 2\n",
    "k = 1/1000\n",
    "h =  2/147\n",
    "n = 0\n",
    "while  True :\n",
    "    b0 = (M*(L**(n-1))/factorial(n))*h**n\n",
    "    if b0 <= k :\n",
    "        print('n = ' ,n)\n",
    "        break\n",
    "    else :\n",
    "        n+=1\n"
   ]
  },
  {
   "cell_type": "markdown",
   "metadata": {},
   "source": [
    "$\\beta_{n} \\leq 10^{-3} \\Rightarrow n = 3, \\ldots$"
   ]
  },
  {
   "cell_type": "markdown",
   "metadata": {},
   "source": [
    "$x_{1} \\in\\left[x_{0}-h, x_{0}+h\\right] \\text { знайти } y\\left(x_{1}\\right) \\text { з точністю до } 10^{-6} $; Для цього беремо n = 3 вироховану з попередньої функції"
   ]
  },
  {
   "cell_type": "code",
   "execution_count": 3,
   "metadata": {},
   "outputs": [
    {
     "name": "stdout",
     "output_type": "stream",
     "text": [
      "x1 =  2.8755500692808007\n",
      "Result =  -0.3837890367092739\n"
     ]
    }
   ],
   "source": [
    "from scipy.integrate import quad\n",
    "from random import uniform\n",
    "n = 3\n",
    "def integrand(x, y):\n",
    "    return x + y**2\n",
    "xmin = 3 - 1/7\n",
    "xmax = 3 + 1/7\n",
    "x1 = uniform(xmin,xmax)\n",
    "x0 = 3\n",
    "print('x1 = ' ,x1)\n",
    "y = [0]*(n+2)\n",
    "y[0] = 0\n",
    "for i in range(n + 1) :\n",
    "    ans, err = quad(integrand,x0,x1,args=(y[i]))\n",
    "    y[i+1] = y[0] + ans\n",
    "print('Result = ',y[-2])"
   ]
  }
 ],
 "metadata": {
  "kernelspec": {
   "display_name": "Python 3",
   "language": "python",
   "name": "python3"
  },
  "language_info": {
   "codemirror_mode": {
    "name": "ipython",
    "version": 3
   },
   "file_extension": ".py",
   "mimetype": "text/x-python",
   "name": "python",
   "nbconvert_exporter": "python",
   "pygments_lexer": "ipython3",
   "version": "3.7.4"
  }
 },
 "nbformat": 4,
 "nbformat_minor": 2
}
